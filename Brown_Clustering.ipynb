{
 "metadata": {
  "name": "",
  "signature": "sha256:2086a880472bd829fcd878fa424c570752fe5ea134c44ba74d45382274828fc8"
 },
 "nbformat": 3,
 "nbformat_minor": 0,
 "worksheets": [
  {
   "cells": [
    {
     "cell_type": "code",
     "collapsed": false,
     "input": [
      "import re\n",
      "\n",
      "#dictionnary to sentiment analysis\n",
      "emo_repl = {\n",
      "    #good emotions\n",
      "    \"&lt;3\" : \" good \",\n",
      "    \":d\" : \" good \",\n",
      "    \":dd\" : \" good \",\n",
      "    \":p\" : \" good \",\n",
      "    \"8)\" : \" good \",\n",
      "    \":-)\" : \" good \",\n",
      "    \":)\" : \" good \",\n",
      "    \";)\" : \" good \",\n",
      "    \"(-:\" : \" good \",\n",
      "    \"(:\" : \" good \",\n",
      "    \n",
      "    \"yay!\" : \" good \",\n",
      "    \"yay\" : \" good \",\n",
      "    \"yaay\" : \" good \",\n",
      "    \"yaaay\" : \" good \",\n",
      "    \"yaaaay\" : \" good \",\n",
      "    \"yaaaaay\" : \" good \",    \n",
      "    #bad emotions\n",
      "    \":/\" : \" bad \",\n",
      "    \":&gt;\" : \" sad \",\n",
      "    \":')\" : \" sad \",\n",
      "    \":-(\" : \" bad \",\n",
      "    \":(\" : \" bad \",\n",
      "    \":s\" : \" bad \",\n",
      "    \":-s\" : \" bad \"\n",
      "}\n",
      "\n",
      "emo_repl2 = {\n",
      "    #good emotions\n",
      "    \"&lt;3\" : \" heart \",\n",
      "    \":d\" : \" smile \",\n",
      "    \":p\" : \" smile \",\n",
      "    \":dd\" : \" smile \",\n",
      "    \"8)\" : \" smile \",\n",
      "    \":-)\" : \" smile \",\n",
      "    \":)\" : \" smile \",\n",
      "    \";)\" : \" smile \",\n",
      "    \"(-:\" : \" smile \",\n",
      "    \"(:\" : \" smile \",\n",
      "       \n",
      "    #bad emotions\n",
      "    \":/\" : \" worry \",\n",
      "    \":&gt;\" : \" angry \",\n",
      "    \":')\" : \" sad \",\n",
      "    \":-(\" : \" sad \",\n",
      "    \":(\" : \" sad \",\n",
      "    \":s\" : \" sad \",\n",
      "    \":-s\" : \" sad \"\n",
      "}\n",
      "\n",
      "#general\n",
      "re_repl = {\n",
      "    r\"\\br\\b\" : \"are\",\n",
      "    r\"\\bu\\b\" : \"you\",\n",
      "    r\"\\bhaha\\b\" : \"ha\",\n",
      "    r\"\\bhahaha\\b\" : \"ha\",\n",
      "    r\"\\bdon't\\b\" : \"do not\",\n",
      "    r\"\\bdoesn't\\b\" : \"does not\",\n",
      "    r\"\\bdidn't\\b\" : \"did not\",\n",
      "    r\"\\bhasn't\\b\" : \"has not\",\n",
      "    r\"\\bhaven't\\b\" : \"have not\",\n",
      "    r\"\\bhadn't\\b\" : \"had not\",\n",
      "    r\"\\bwon't\\b\" : \"will not\",\n",
      "    r\"\\bwouldn't\\b\" : \"would not\",\n",
      "    r\"\\bcan't\\b\" : \"can not\",\n",
      "    r\"\\bcannot\\b\" : \"can not\"    \n",
      "}\n",
      "\n",
      "emo_repl_order = [k for (k_len,k) in reversed(sorted([(len(k),k) for k in emo_repl.keys()]))]\n",
      "emo_repl_order2 = [k for (k_len,k) in reversed(sorted([(len(k),k) for k in emo_repl2.keys()]))]\n",
      "\n",
      "def replace_emo(sentence):\n",
      "    sentence2 = sentence\n",
      "    for k in emo_repl_order:\n",
      "        sentence2 = sentence2.replace(k,emo_repl[k])\n",
      "    for r, repl in re_repl.iteritems():\n",
      "        sentence2 = re.sub(r,repl,sentence2)\n",
      "    return sentence2\n",
      "\n",
      "def replace_reg(sentence):\n",
      "    sentence2 = sentence\n",
      "    for k in emo_repl_order2:\n",
      "        sentence2 = sentence2.replace(k,emo_repl2[k])\n",
      "    for r, repl in re_repl.iteritems(): \n",
      "        sentence2 = re.sub(r,repl,sentence2)\n",
      "    return sentence2\n",
      "\n",
      "def processSentence(sentence):\n",
      "    result = re.sub(r\"http\\S+\", \"URL\", sentence)\n",
      "    result = re.sub(r\"@\\S+\", \"USER\", result)\n",
      "    result = re.sub(r\"#\\S+\", \"TAG\", result)\n",
      "    result = result.decode('unicode_escape').encode('ascii','ignore')\n",
      "    return result"
     ],
     "language": "python",
     "metadata": {},
     "outputs": [],
     "prompt_number": 3
    },
    {
     "cell_type": "code",
     "collapsed": false,
     "input": [
      "import nltk\n",
      "import numpy\n",
      "import arff\n",
      "\n",
      "basedir = 'G:\\\\NLP_CSE628\\\\Project\\\\Brown\\\\Files\\\\clusterfiles\\\\new_brown_Ashwn\\\\'\n",
      "\n",
      "totalFeaturesIndexMap = {}\n",
      "featureIndex = 0\n",
      "indexTotalFeatursMap = {}\n",
      "\n",
      "def grams_feature(features,sentence, topic_dic):\n",
      "    sentence_reg = replace_reg(sentence)\n",
      "    \n",
      "    tokens = nltk.word_tokenize(sentence_reg)\n",
      "    tokens = [t.lower() for t in tokens] \n",
      "#     bigrams = nltk.bigrams(tokens)\n",
      "#     bigrams = [tup[0]+' ' +tup[1] for tup in bigrams]\n",
      "    grams = tokens\n",
      "    no_of_topics = 0\n",
      "    for t in grams:\n",
      "        index = 0\n",
      "        if str(t) in clust_dic:\n",
      "            index = clusters.index(str(clust_dic[str(t).lower()])) #index - first time when the word is found in the file\n",
      "            features[int(index)] += 1\n",
      "        #added for topic \n",
      "        if str(t) in topic_dic:\n",
      "            no_of_topics += 1\n",
      "    return features, no_of_topics\n",
      "\n",
      "\n",
      "def getFeatureVectors(fileName, isSarcastic, features, topic_dic):\n",
      "    featureList = []\n",
      "    with open(basedir + fileName,'r') as f:\n",
      "        for sentence in f:\n",
      "            sentence = unicode(sentence,\"utf-8\")\n",
      "            if isSarcastic:\n",
      "                sentence = sentence.replace(\"#sarcasm\", \"\")\n",
      "                sentence = sentence.replace(\"#sarcastic\", \"\")\n",
      "            sentence = processSentence(sentence)\n",
      "            if len(sentence) > 5:\n",
      "                features, topics = grams_feature(features, sentence, topic_dic)\n",
      "                if topics > 0:\n",
      "                    print \"TOpics > 0\"\n",
      "                    features.append(int(topics))\n",
      "                else:\n",
      "                    features.append(int(0))\n",
      "                if isSarcastic:\n",
      "                    features.append(\"Yes\")\n",
      "                else:\n",
      "                    features.append(\"No\")\n",
      "            if features != []:\n",
      "                featureList.append(features)\n",
      "            features = [0 for c in clusters]\n",
      "#             features.append(0)\n",
      "    return featureList\n",
      "\n",
      "\n",
      "def createDic(filepath, dic, clusters):\n",
      "    with open(basedir + filepath ,'r') as f:\n",
      "        for sentence in f:\n",
      "            sentence = unicode(sentence,\"utf-8\")\n",
      "            tok = sentence.strip().split()\n",
      "            word = tok[1].lower()\n",
      "            word = re.sub('(http://\\S+|\\S*[^\\w\\s]\\S*)','',word)\n",
      "            clust_id = str(tok[0])\n",
      "            if clust_id not in clusters:\n",
      "                clusters.append(clust_id)\n",
      "            if word not in dic and len(word) > 1:\n",
      "#                     print \"Word and Cluster\", word, clust_id\n",
      "                dic[word] = clust_id\n",
      "                           \n",
      "    return dic, clusters\n",
      "\n",
      "def topic_Create(filepath, topic_dic):\n",
      "    fr = open(filepath, 'r')\n",
      "    for line in fr:\n",
      "        for word in line.split():\n",
      "            if word not in topic_dic:\n",
      "                if word != str('url') and word != 'tag' and word != 'user':\n",
      "                    topic_dic[word] = 1\n",
      "    return topic_dic\n",
      "\n",
      "def generateArff(clust_dic, clusters, features, topic_dic):\n",
      "    \n",
      "#     fileList = ['sarcastic_tweets_train.csv','normal_tweets_train.csv','sarcastic_tweets_test.csv','normal_tweets_test.csv']\n",
      "    fileList = ['polarity_twitDB_sarcasm_train.csv','polarity_twitDB_regular_train.csv','polarity_twitDB_sarcasm_test.csv','polarity_twitDB_regular_test.csv']\n",
      "    brownfileList = ['paths_brown.txt','cluster_twitDB_sarcasm_train.csv','cluster_twitDB_regular_train.csv','cluster_twitDB_sarcasm_test.csv','cluster_twitDB_regular_test.csv']\n",
      "     \n",
      "    filepath = 'G:\\\\NLP_CSE628\\\\Project\\\\Topic\\\\topics.txt'\n",
      "    topic_dic = topic_Create(filepath, topic_dic)\n",
      "    \n",
      "    clust_dic, clusters = createDic(brownfileList[0], clust_dic, clusters)\n",
      "    print \"Length 1: Clusters and Clust_Dic\", len(clusters), len(clust_dic)\n",
      "    '''\n",
      "    clust_dic, clusters = createDic(brownfileList[1], clust_dic, clusters)\n",
      "    print \"Length 2: Clusters and Clust_Dic\", len(clusters), len(clust_dic)\n",
      "    clust_dic, clusters = createDic(brownfileList[2], clust_dic, clusters)\n",
      "    print \"Length  3: Clusters and Clust_Dic\", len(clusters), len(clust_dic)\n",
      "    clust_dic, clusters = createDic(brownfileList[3], clust_dic, clusters)\n",
      "    print \"Length 4: Clusters and Clust_Dic\", len(clusters), len(clust_dic)\n",
      "    '''\n",
      "    features = [0 for c in clusters]\n",
      "#     features.append(0)\n",
      "    sarcasticFeatureVectors = getFeatureVectors(fileList[0], True, features, topic_dic)\n",
      "    \n",
      "    features = [0 for c in clusters]\n",
      "#     features.append(0)\n",
      "    normalFeatureVectors = getFeatureVectors(fileList[1], False, features, topic_dic)\n",
      "    \n",
      "    features = [0 for c in clusters]\n",
      "#     features.append(0)\n",
      "    sarcasticFeatureVectorsTest = getFeatureVectors(fileList[2], True, features, topic_dic)\n",
      "    \n",
      "    features = [0 for c in clusters]\n",
      "#     features.append(0)\n",
      "    normalFeatureVectorsTest = getFeatureVectors(fileList[3], False, features, topic_dic)\n",
      "    '''\n",
      "#     print(len(totalFeaturesIndexMap))\n",
      "    \n",
      "    featureVectorsToFile = []\n",
      "    \n",
      "    for featureVector in sarcasticFeatureVectors:\n",
      "        currVector = [0] * (len(clusters)+1)\n",
      "        for i in xrange(0,len(clusters)):\n",
      "            currVector[i] = featureVector[i]\n",
      "        currVector[len(currVector)-1] = 'yes'\n",
      "        featureVectorsToFile.append(currVector)\n",
      "        \n",
      "    for featureVector in normalFeatureVectors:\n",
      "        currVector = [0] * (len(totalFeaturesIndexMap)+1)\n",
      "        for feature in featureVector:\n",
      "            currVector[totalFeaturesIndexMap[feature]] = 1\n",
      "        currVector[len(currVector)-1] = 'no'\n",
      "        featureVectorsToFile.append(currVector)\n",
      "    '''\n",
      "    featureVectorsToFile = []\n",
      "    featureVectorsToFile = sarcasticFeatureVectors + normalFeatureVectors\n",
      "    \n",
      "    relNameList = [str(i) for i in xrange(0,len(clusters))]\n",
      "    relNameList = relNameList.append('class')\n",
      "    arff.dump(basedir + 'train_sarcasm_twitdb_brown_topic.arff', featureVectorsToFile, relation=\"relation\", names=relNameList) \n",
      "    \n",
      "    \n",
      "    featureVectorsToFile = []\n",
      "    '''\n",
      "    for featureVector in sarcasticFeatureVectorsTest:\n",
      "        currVector = [0] * (len(totalFeaturesIndexMap)+1)\n",
      "        for feature in featureVector:\n",
      "            currVector[totalFeaturesIndexMap[feature]] = 1\n",
      "        currVector[len(currVector)-1] = 'yes'\n",
      "        featureVectorsToFile.append(currVector)\n",
      "        \n",
      "    for featureVector in normalFeatureVectorsTest:\n",
      "        currVector = [0] * (len(totalFeaturesIndexMap)+1)\n",
      "        for feature in featureVector:\n",
      "            currVector[totalFeaturesIndexMap[feature]] = 1\n",
      "        currVector[len(currVector)-1] = 'no'\n",
      "        featureVectorsToFile.append(currVector)\n",
      "     '''\n",
      "    featureVectorsToFile = sarcasticFeatureVectorsTest + normalFeatureVectorsTest\n",
      "    \n",
      "    relNameList = [str(i) for i in xrange(0,len(clusters))]\n",
      "    relNameList = relNameList.append('class')\n",
      "    arff.dump(basedir + 'test_sarcasm_twitdb_brown_topic.arff', featureVectorsToFile, relation=\"relation\", names=relNameList) \n",
      "\n",
      "\n",
      "clust_dic = {}\n",
      "clusters = []\n",
      "features = []       \n",
      "topic_dic = {}\n",
      "generateArff(clust_dic, clusters, features, topic_dic)\n",
      "\n"
     ],
     "language": "python",
     "metadata": {},
     "outputs": [
      {
       "output_type": "stream",
       "stream": "stdout",
       "text": [
        "Length 1: Clusters and Clust_Dic 50 4915\n",
        "TOpics > 0\n",
        "TOpics > 0\n",
        "TOpics > 0\n",
        "TOpics > 0\n",
        "TOpics > 0\n",
        "TOpics > 0\n",
        "TOpics > 0\n",
        "TOpics > 0\n",
        "TOpics > 0\n",
        "TOpics > 0\n",
        "TOpics > 0\n",
        "TOpics > 0\n",
        "TOpics > 0\n",
        "TOpics > 0\n",
        "TOpics > 0\n",
        "TOpics > 0\n",
        "TOpics > 0\n",
        "TOpics > 0\n",
        "TOpics > 0\n",
        "TOpics > 0\n",
        "TOpics > 0\n",
        "TOpics > 0\n",
        "TOpics > 0\n",
        "TOpics > 0\n",
        "TOpics > 0\n",
        "TOpics > 0\n",
        "TOpics > 0\n",
        "TOpics > 0\n",
        "TOpics > 0\n",
        "TOpics > 0\n",
        "TOpics > 0\n",
        "TOpics > 0\n",
        "TOpics > 0\n",
        "TOpics > 0\n",
        "TOpics > 0\n",
        "TOpics > 0\n",
        "TOpics > 0\n",
        "TOpics > 0\n",
        "TOpics > 0\n",
        "TOpics > 0\n",
        "TOpics > 0\n",
        "TOpics > 0\n",
        "TOpics > 0\n",
        "TOpics > 0\n",
        "TOpics > 0\n",
        "TOpics > 0\n",
        "TOpics > 0\n",
        "TOpics > 0\n",
        "TOpics > 0\n",
        "TOpics > 0\n",
        "TOpics > 0\n",
        "TOpics > 0\n",
        "TOpics > 0\n",
        "TOpics > 0\n",
        "TOpics > 0\n",
        "TOpics > 0\n",
        "TOpics > 0\n",
        "TOpics > 0\n",
        "TOpics > 0\n",
        "TOpics > 0\n",
        "TOpics > 0\n",
        "TOpics > 0\n",
        "TOpics > 0\n",
        "TOpics > 0\n",
        "TOpics > 0\n",
        "TOpics > 0\n",
        "TOpics > 0\n",
        "TOpics > 0\n",
        "TOpics > 0\n",
        "TOpics > 0\n",
        "TOpics > 0\n",
        "TOpics > 0\n",
        "TOpics > 0\n",
        "TOpics > 0\n",
        "TOpics > 0\n",
        "TOpics > 0\n",
        "TOpics > 0\n",
        "TOpics > 0\n",
        "TOpics > 0\n",
        "TOpics > 0\n",
        "TOpics > 0\n",
        "TOpics > 0\n",
        "TOpics > 0\n",
        "TOpics > 0\n",
        "TOpics > 0"
       ]
      },
      {
       "output_type": "stream",
       "stream": "stdout",
       "text": [
        "\n",
        "TOpics > 0\n",
        "TOpics > 0\n",
        "TOpics > 0\n",
        "TOpics > 0\n",
        "TOpics > 0\n",
        "TOpics > 0\n",
        "TOpics > 0\n",
        "TOpics > 0\n",
        "TOpics > 0\n",
        "TOpics > 0\n",
        "TOpics > 0\n",
        "TOpics > 0\n",
        "TOpics > 0\n",
        "TOpics > 0\n",
        "TOpics > 0\n",
        "TOpics > 0\n",
        "TOpics > 0\n",
        "TOpics > 0\n",
        "TOpics > 0\n",
        "TOpics > 0\n",
        "TOpics > 0\n",
        "TOpics > 0\n",
        "TOpics > 0\n",
        "TOpics > 0\n",
        "TOpics > 0\n",
        "TOpics > 0\n",
        "TOpics > 0\n",
        "TOpics > 0\n",
        "TOpics > 0\n",
        "TOpics > 0\n",
        "TOpics > 0\n",
        "TOpics > 0\n",
        "TOpics > 0\n",
        "TOpics > 0\n",
        "TOpics > 0\n",
        "TOpics > 0\n",
        "TOpics > 0\n",
        "TOpics > 0\n",
        "TOpics > 0\n",
        "TOpics > 0\n",
        "TOpics > 0\n",
        "TOpics > 0\n",
        "TOpics > 0\n",
        "TOpics > 0\n",
        "TOpics > 0\n",
        "TOpics > 0\n",
        "TOpics > 0\n",
        "TOpics > 0\n",
        "TOpics > 0\n",
        "TOpics > 0\n",
        "TOpics > 0\n",
        "TOpics > 0\n",
        "TOpics > 0\n",
        "TOpics > 0\n",
        "TOpics > 0\n",
        "TOpics > 0\n",
        "TOpics > 0\n",
        "TOpics > 0\n",
        "TOpics > 0\n",
        "TOpics > 0\n",
        "TOpics > 0\n",
        "TOpics > 0\n",
        "TOpics > 0\n",
        "TOpics > 0\n",
        "TOpics > 0\n",
        "TOpics > 0\n",
        "TOpics > 0\n",
        "TOpics > 0\n",
        "TOpics > 0\n",
        "TOpics > 0\n",
        "TOpics > 0\n",
        "TOpics > 0\n",
        "TOpics > 0\n",
        "TOpics > 0\n",
        "TOpics > 0\n",
        "TOpics > 0\n",
        "TOpics > 0\n",
        "TOpics > 0\n",
        "TOpics > 0"
       ]
      },
      {
       "output_type": "stream",
       "stream": "stdout",
       "text": [
        "\n",
        "TOpics > 0\n",
        "TOpics > 0\n",
        "TOpics > 0\n",
        "TOpics > 0\n",
        "TOpics > 0\n",
        "TOpics > 0\n",
        "TOpics > 0\n",
        "TOpics > 0\n",
        "TOpics > 0\n",
        "TOpics > 0\n",
        "TOpics > 0\n",
        "TOpics > 0\n",
        "TOpics > 0\n",
        "TOpics > 0\n",
        "TOpics > 0\n",
        "TOpics > 0\n",
        "TOpics > 0\n",
        "TOpics > 0\n",
        "TOpics > 0\n",
        "TOpics > 0\n",
        "TOpics > 0\n",
        "TOpics > 0\n",
        "TOpics > 0\n",
        "TOpics > 0\n",
        "TOpics > 0\n",
        "TOpics > 0\n",
        "TOpics > 0\n",
        "TOpics > 0\n",
        "TOpics > 0\n",
        "TOpics > 0\n",
        "TOpics > 0\n",
        "TOpics > 0\n",
        "TOpics > 0\n",
        "TOpics > 0\n",
        "TOpics > 0\n",
        "TOpics > 0\n",
        "TOpics > 0\n",
        "TOpics > 0\n",
        "TOpics > 0\n",
        "TOpics > 0\n",
        "TOpics > 0\n",
        "TOpics > 0\n",
        "TOpics > 0\n",
        "TOpics > 0\n",
        "TOpics > 0\n",
        "TOpics > 0\n",
        "TOpics > 0\n",
        "TOpics > 0\n",
        "TOpics > 0\n",
        "TOpics > 0\n",
        "TOpics > 0\n",
        "TOpics > 0\n",
        "TOpics > 0\n",
        "TOpics > 0\n",
        "TOpics > 0\n",
        "TOpics > 0\n",
        "TOpics > 0\n",
        "TOpics > 0\n",
        "TOpics > 0\n",
        "TOpics > 0\n",
        "TOpics > 0\n",
        "TOpics > 0\n",
        "TOpics > 0\n",
        "TOpics > 0\n",
        "TOpics > 0\n",
        "TOpics > 0\n",
        "TOpics > 0\n",
        "TOpics > 0\n",
        "TOpics > 0"
       ]
      },
      {
       "output_type": "stream",
       "stream": "stdout",
       "text": [
        "\n",
        "TOpics > 0\n",
        "TOpics > 0\n",
        "TOpics > 0\n",
        "TOpics > 0\n",
        "TOpics > 0\n",
        "TOpics > 0\n",
        "TOpics > 0\n",
        "TOpics > 0\n",
        "TOpics > 0\n",
        "TOpics > 0\n",
        "TOpics > 0\n",
        "TOpics > 0\n",
        "TOpics > 0\n",
        "TOpics > 0\n",
        "TOpics > 0\n",
        "TOpics > 0\n",
        "TOpics > 0\n",
        "TOpics > 0\n",
        "TOpics > 0\n",
        "TOpics > 0\n",
        "TOpics > 0\n",
        "TOpics > 0\n",
        "TOpics > 0\n",
        "TOpics > 0\n",
        "TOpics > 0\n",
        "TOpics > 0\n",
        "TOpics > 0\n",
        "TOpics > 0\n",
        "TOpics > 0\n",
        "TOpics > 0\n",
        "TOpics > 0\n",
        "TOpics > 0\n",
        "TOpics > 0\n",
        "TOpics > 0\n",
        "TOpics > 0\n",
        "TOpics > 0\n",
        "TOpics > 0\n",
        "TOpics > 0\n",
        "TOpics > 0\n",
        "TOpics > 0\n",
        "TOpics > 0\n",
        "TOpics > 0\n",
        "TOpics > 0\n",
        "TOpics > 0\n",
        "TOpics > 0\n",
        "TOpics > 0\n",
        "TOpics > 0\n",
        "TOpics > 0\n",
        "TOpics > 0\n",
        "TOpics > 0\n",
        "TOpics > 0\n",
        "TOpics > 0\n",
        "TOpics > 0\n",
        "TOpics > 0\n",
        "TOpics > 0\n",
        "TOpics > 0\n",
        "TOpics > 0\n",
        "TOpics > 0\n",
        "TOpics > 0\n",
        "TOpics > 0\n",
        "TOpics > 0\n",
        "TOpics > 0\n",
        "TOpics > 0\n",
        "TOpics > 0\n",
        "TOpics > 0\n",
        "TOpics > 0\n",
        "TOpics > 0\n",
        "TOpics > 0\n",
        "TOpics > 0\n",
        "TOpics > 0\n",
        "TOpics > 0\n",
        "TOpics > 0\n",
        "TOpics > 0\n",
        "TOpics > 0\n",
        "TOpics > 0\n",
        "TOpics > 0"
       ]
      },
      {
       "output_type": "stream",
       "stream": "stdout",
       "text": [
        "\n",
        "TOpics > 0\n",
        "TOpics > 0\n",
        "TOpics > 0\n",
        "TOpics > 0\n",
        "TOpics > 0\n",
        "TOpics > 0\n",
        "TOpics > 0\n",
        "TOpics > 0\n",
        "TOpics > 0\n",
        "TOpics > 0\n",
        "TOpics > 0\n",
        "TOpics > 0\n",
        "TOpics > 0\n",
        "TOpics > 0\n",
        "TOpics > 0\n",
        "TOpics > 0\n",
        "TOpics > 0\n",
        "TOpics > 0\n",
        "TOpics > 0\n",
        "TOpics > 0\n",
        "TOpics > 0\n",
        "TOpics > 0\n",
        "TOpics > 0\n",
        "TOpics > 0\n",
        "TOpics > 0\n",
        "TOpics > 0\n",
        "TOpics > 0\n",
        "TOpics > 0\n",
        "TOpics > 0\n",
        "TOpics > 0\n",
        "TOpics > 0\n",
        "TOpics > 0\n",
        "TOpics > 0\n",
        "TOpics > 0\n",
        "TOpics > 0\n",
        "TOpics > 0\n",
        "TOpics > 0\n",
        "TOpics > 0\n",
        "TOpics > 0\n",
        "TOpics > 0\n",
        "TOpics > 0\n",
        "TOpics > 0\n",
        "TOpics > 0\n",
        "TOpics > 0\n",
        "TOpics > 0\n",
        "TOpics > 0\n",
        "TOpics > 0\n",
        "TOpics > 0\n",
        "TOpics > 0\n",
        "TOpics > 0\n",
        "TOpics > 0\n",
        "TOpics > 0\n",
        "TOpics > 0\n",
        "TOpics > 0\n",
        "TOpics > 0\n",
        "TOpics > 0\n",
        "TOpics > 0\n",
        "TOpics > 0\n",
        "TOpics > 0\n",
        "TOpics > 0\n",
        "TOpics > 0\n",
        "TOpics > 0\n",
        "TOpics > 0\n",
        "TOpics > 0\n",
        "TOpics > 0\n",
        "TOpics > 0\n",
        "TOpics > 0\n",
        "TOpics > 0\n",
        "TOpics > 0\n",
        "TOpics > 0"
       ]
      },
      {
       "output_type": "stream",
       "stream": "stdout",
       "text": [
        "\n",
        "TOpics > 0\n",
        "TOpics > 0\n",
        "TOpics > 0\n",
        "TOpics > 0\n",
        "TOpics > 0\n",
        "TOpics > 0\n",
        "TOpics > 0\n",
        "TOpics > 0\n",
        "TOpics > 0\n",
        "TOpics > 0\n",
        "TOpics > 0\n",
        "TOpics > 0\n",
        "TOpics > 0\n",
        "TOpics > 0\n",
        "TOpics > 0\n",
        "TOpics > 0\n",
        "TOpics > 0\n",
        "TOpics > 0\n",
        "TOpics > 0\n",
        "TOpics > 0\n",
        "TOpics > 0\n",
        "TOpics > 0\n",
        "TOpics > 0\n",
        "TOpics > 0\n",
        "TOpics > 0\n",
        "TOpics > 0\n",
        "TOpics > 0\n",
        "TOpics > 0\n",
        "TOpics > 0\n",
        "TOpics > 0\n",
        "TOpics > 0\n",
        "TOpics > 0\n",
        "TOpics > 0\n",
        "TOpics > 0\n",
        "TOpics > 0\n",
        "TOpics > 0\n",
        "TOpics > 0\n",
        "TOpics > 0\n",
        "TOpics > 0\n",
        "TOpics > 0\n",
        "TOpics > 0\n",
        "TOpics > 0\n",
        "TOpics > 0\n",
        "TOpics > 0\n",
        "TOpics > 0\n",
        "TOpics > 0\n",
        "TOpics > 0\n",
        "TOpics > 0\n",
        "TOpics > 0\n",
        "TOpics > 0\n",
        "TOpics > 0\n",
        "TOpics > 0\n",
        "TOpics > 0\n",
        "TOpics > 0\n",
        "TOpics > 0\n",
        "TOpics > 0\n",
        "TOpics > 0\n",
        "TOpics > 0\n",
        "TOpics > 0\n",
        "TOpics > 0\n",
        "TOpics > 0\n",
        "TOpics > 0\n",
        "TOpics > 0\n"
       ]
      },
      {
       "output_type": "stream",
       "stream": "stdout",
       "text": [
        "TOpics > 0\n",
        "TOpics > 0\n",
        "TOpics > 0\n",
        "TOpics > 0\n",
        "TOpics > 0\n",
        "TOpics > 0\n",
        "TOpics > 0\n",
        "TOpics > 0\n",
        "TOpics > 0\n",
        "TOpics > 0\n",
        "TOpics > 0\n",
        "TOpics > 0\n",
        "TOpics > 0\n",
        "TOpics > 0\n",
        "TOpics > 0\n",
        "TOpics > 0\n",
        "TOpics > 0\n",
        "TOpics > 0\n",
        "TOpics > 0\n",
        "TOpics > 0\n",
        "TOpics > 0\n",
        "TOpics > 0\n",
        "TOpics > 0\n",
        "TOpics > 0\n",
        "TOpics > 0\n",
        "TOpics > 0\n",
        "TOpics > 0\n",
        "TOpics > 0\n",
        "TOpics > 0\n",
        "TOpics > 0\n",
        "TOpics > 0\n",
        "TOpics > 0\n",
        "TOpics > 0\n",
        "TOpics > 0\n",
        "TOpics > 0\n",
        "TOpics > 0\n",
        "TOpics > 0\n",
        "TOpics > 0\n",
        "TOpics > 0\n",
        "TOpics > 0\n",
        "TOpics > 0\n",
        "TOpics > 0\n",
        "TOpics > 0\n",
        "TOpics > 0\n",
        "TOpics > 0\n",
        "TOpics > 0\n",
        "TOpics > 0\n",
        "TOpics > 0\n",
        "TOpics > 0\n",
        "TOpics > 0\n",
        "TOpics > 0\n",
        "TOpics > 0\n",
        "TOpics > 0\n",
        "TOpics > 0\n",
        "TOpics > 0\n",
        "TOpics > 0\n",
        "TOpics > 0\n",
        "TOpics > 0\n",
        "TOpics > 0\n",
        "TOpics > 0\n",
        "TOpics > 0\n",
        "TOpics > 0\n",
        "TOpics > 0\n",
        "TOpics > 0\n",
        "TOpics > 0\n",
        "TOpics > 0\n",
        "TOpics > 0\n",
        "TOpics > 0\n",
        "TOpics > 0\n",
        "TOpics > 0\n",
        "TOpics > 0\n",
        "TOpics > 0\n",
        "TOpics > 0\n",
        "TOpics > 0\n",
        "TOpics > 0\n",
        "TOpics > 0\n",
        "TOpics > 0\n",
        "TOpics > 0\n",
        "TOpics > 0\n",
        "TOpics > 0\n",
        "TOpics > 0\n",
        "TOpics > 0\n",
        "TOpics > 0\n",
        "TOpics > 0\n",
        "TOpics > 0\n",
        "TOpics > 0\n",
        "TOpics > 0\n",
        "TOpics > 0"
       ]
      },
      {
       "output_type": "stream",
       "stream": "stdout",
       "text": [
        "\n",
        "TOpics > 0\n",
        "TOpics > 0\n",
        "TOpics > 0\n",
        "TOpics > 0\n",
        "TOpics > 0\n",
        "TOpics > 0\n",
        "TOpics > 0\n",
        "TOpics > 0\n",
        "TOpics > 0\n",
        "TOpics > 0\n",
        "TOpics > 0\n",
        "TOpics > 0\n",
        "TOpics > 0\n",
        "TOpics > 0\n",
        "TOpics > 0\n",
        "TOpics > 0\n",
        "TOpics > 0\n",
        "TOpics > 0\n",
        "TOpics > 0\n",
        "TOpics > 0\n",
        "TOpics > 0\n",
        "TOpics > 0\n",
        "TOpics > 0\n",
        "TOpics > 0\n",
        "TOpics > 0\n",
        "TOpics > 0\n",
        "TOpics > 0\n",
        "TOpics > 0\n",
        "TOpics > 0\n",
        "TOpics > 0\n",
        "TOpics > 0\n",
        "TOpics > 0\n",
        "TOpics > 0\n",
        "TOpics > 0\n",
        "TOpics > 0\n",
        "TOpics > 0\n",
        "TOpics > 0\n",
        "TOpics > 0\n",
        "TOpics > 0\n",
        "TOpics > 0\n",
        "TOpics > 0\n",
        "TOpics > 0\n",
        "TOpics > 0\n",
        "TOpics > 0\n",
        "TOpics > 0\n",
        "TOpics > 0\n",
        "TOpics > 0\n",
        "TOpics > 0\n",
        "TOpics > 0\n",
        "TOpics > 0\n",
        "TOpics > 0\n",
        "TOpics > 0\n",
        "TOpics > 0\n",
        "TOpics > 0\n",
        "TOpics > 0\n",
        "TOpics > 0\n",
        "TOpics > 0\n",
        "TOpics > 0\n",
        "TOpics > 0\n",
        "TOpics > 0\n",
        "TOpics > 0\n",
        "TOpics > 0\n",
        "TOpics > 0\n",
        "TOpics > 0\n",
        "TOpics > 0\n",
        "TOpics > 0\n",
        "TOpics > 0\n",
        "TOpics > 0\n",
        "TOpics > 0\n",
        "TOpics > 0\n",
        "TOpics > 0\n",
        "TOpics > 0\n",
        "TOpics > 0"
       ]
      },
      {
       "output_type": "stream",
       "stream": "stdout",
       "text": [
        "\n",
        "TOpics > 0\n",
        "TOpics > 0\n",
        "TOpics > 0\n",
        "TOpics > 0\n",
        "TOpics > 0\n",
        "TOpics > 0\n",
        "TOpics > 0\n",
        "TOpics > 0\n",
        "TOpics > 0\n",
        "TOpics > 0\n",
        "TOpics > 0\n",
        "TOpics > 0\n",
        "TOpics > 0\n",
        "TOpics > 0\n",
        "TOpics > 0\n",
        "TOpics > 0\n",
        "TOpics > 0\n",
        "TOpics > 0\n",
        "TOpics > 0\n",
        "TOpics > 0\n",
        "TOpics > 0\n",
        "TOpics > 0\n",
        "TOpics > 0\n",
        "TOpics > 0\n",
        "TOpics > 0\n",
        "TOpics > 0\n",
        "TOpics > 0\n",
        "TOpics > 0\n",
        "TOpics > 0\n",
        "TOpics > 0\n",
        "TOpics > 0\n",
        "TOpics > 0\n",
        "TOpics > 0\n",
        "TOpics > 0\n",
        "TOpics > 0\n",
        "TOpics > 0\n",
        "TOpics > 0\n",
        "TOpics > 0\n",
        "TOpics > 0\n",
        "TOpics > 0\n",
        "TOpics > 0\n",
        "TOpics > 0\n",
        "TOpics > 0\n",
        "TOpics > 0\n",
        "TOpics > 0\n",
        "TOpics > 0\n",
        "TOpics > 0\n",
        "TOpics > 0\n",
        "TOpics > 0\n",
        "TOpics > 0\n",
        "TOpics > 0\n",
        "TOpics > 0\n",
        "TOpics > 0\n",
        "TOpics > 0\n",
        "TOpics > 0"
       ]
      },
      {
       "output_type": "stream",
       "stream": "stdout",
       "text": [
        "\n",
        "TOpics > 0\n",
        "TOpics > 0\n",
        "TOpics > 0\n",
        "TOpics > 0\n",
        "TOpics > 0\n",
        "TOpics > 0\n",
        "TOpics > 0\n",
        "TOpics > 0\n",
        "TOpics > 0\n",
        "TOpics > 0\n",
        "TOpics > 0\n",
        "TOpics > 0\n",
        "TOpics > 0\n",
        "TOpics > 0\n",
        "TOpics > 0\n",
        "TOpics > 0\n",
        "TOpics > 0\n",
        "TOpics > 0\n",
        "TOpics > 0\n",
        "TOpics > 0\n",
        "TOpics > 0\n",
        "TOpics > 0\n",
        "TOpics > 0\n",
        "TOpics > 0\n",
        "TOpics > 0\n",
        "TOpics > 0\n",
        "TOpics > 0\n",
        "TOpics > 0\n",
        "TOpics > 0\n",
        "TOpics > 0\n",
        "TOpics > 0\n",
        "TOpics > 0\n",
        "TOpics > 0\n",
        "TOpics > 0\n",
        "TOpics > 0\n",
        "TOpics > 0\n",
        "TOpics > 0\n",
        "TOpics > 0\n",
        "TOpics > 0\n",
        "TOpics > 0\n",
        "TOpics > 0\n",
        "TOpics > 0\n",
        "TOpics > 0\n",
        "TOpics > 0\n",
        "TOpics > 0\n",
        "TOpics > 0\n",
        "TOpics > 0\n",
        "TOpics > 0\n",
        "TOpics > 0\n",
        "TOpics > 0\n",
        "TOpics > 0\n",
        "TOpics > 0\n",
        "TOpics > 0\n",
        "TOpics > 0\n",
        "TOpics > 0\n",
        "TOpics > 0\n",
        "TOpics > 0\n",
        "TOpics > 0\n",
        "TOpics > 0\n",
        "TOpics > 0\n",
        "TOpics > 0\n",
        "TOpics > 0\n",
        "TOpics > 0\n",
        "TOpics > 0\n",
        "TOpics > 0\n",
        "TOpics > 0\n",
        "TOpics > 0\n",
        "TOpics > 0\n",
        "TOpics > 0\n",
        "TOpics > 0\n",
        "TOpics > 0\n",
        "TOpics > 0\n",
        "TOpics > 0\n",
        "TOpics > 0\n",
        "TOpics > 0\n",
        "TOpics > 0\n",
        "TOpics > 0\n",
        "TOpics > 0\n",
        "TOpics > 0\n",
        "TOpics > 0"
       ]
      },
      {
       "output_type": "stream",
       "stream": "stdout",
       "text": [
        "\n",
        "TOpics > 0\n",
        "TOpics > 0\n",
        "TOpics > 0\n",
        "TOpics > 0\n",
        "TOpics > 0\n",
        "TOpics > 0\n",
        "TOpics > 0\n",
        "TOpics > 0\n",
        "TOpics > 0\n",
        "TOpics > 0\n",
        "TOpics > 0\n",
        "TOpics > 0\n",
        "TOpics > 0\n",
        "TOpics > 0\n",
        "TOpics > 0\n",
        "TOpics > 0\n",
        "TOpics > 0\n",
        "TOpics > 0\n",
        "TOpics > 0\n",
        "TOpics > 0\n",
        "TOpics > 0\n",
        "TOpics > 0\n",
        "TOpics > 0\n",
        "TOpics > 0\n",
        "TOpics > 0\n",
        "TOpics > 0\n",
        "TOpics > 0\n",
        "TOpics > 0\n",
        "TOpics > 0\n",
        "TOpics > 0\n",
        "TOpics > 0\n",
        "TOpics > 0\n",
        "TOpics > 0\n",
        "TOpics > 0\n",
        "TOpics > 0\n",
        "TOpics > 0\n",
        "TOpics > 0\n",
        "TOpics > 0\n",
        "TOpics > 0\n",
        "TOpics > 0\n",
        "TOpics > 0\n",
        "TOpics > 0\n",
        "TOpics > 0\n",
        "TOpics > 0\n",
        "TOpics > 0\n",
        "TOpics > 0\n",
        "TOpics > 0\n",
        "TOpics > 0\n",
        "TOpics > 0\n",
        "TOpics > 0\n",
        "TOpics > 0\n",
        "TOpics > 0"
       ]
      },
      {
       "output_type": "stream",
       "stream": "stdout",
       "text": [
        "\n",
        "TOpics > 0\n",
        "TOpics > 0\n",
        "TOpics > 0\n",
        "TOpics > 0\n",
        "TOpics > 0\n",
        "TOpics > 0\n",
        "TOpics > 0\n",
        "TOpics > 0\n",
        "TOpics > 0\n",
        "TOpics > 0\n",
        "TOpics > 0\n",
        "TOpics > 0\n",
        "TOpics > 0\n",
        "TOpics > 0\n",
        "TOpics > 0\n",
        "TOpics > 0\n",
        "TOpics > 0\n",
        "TOpics > 0\n",
        "TOpics > 0\n",
        "TOpics > 0\n",
        "TOpics > 0\n",
        "TOpics > 0\n",
        "TOpics > 0\n",
        "TOpics > 0\n",
        "TOpics > 0\n",
        "TOpics > 0\n",
        "TOpics > 0\n",
        "TOpics > 0\n",
        "TOpics > 0\n",
        "TOpics > 0\n",
        "TOpics > 0\n",
        "TOpics > 0\n",
        "TOpics > 0\n",
        "TOpics > 0\n",
        "TOpics > 0\n",
        "TOpics > 0\n",
        "TOpics > 0\n",
        "TOpics > 0\n",
        "TOpics > 0\n",
        "TOpics > 0\n",
        "TOpics > 0"
       ]
      },
      {
       "output_type": "stream",
       "stream": "stdout",
       "text": [
        "\n",
        "TOpics > 0\n",
        "TOpics > 0\n",
        "TOpics > 0\n",
        "TOpics > 0\n",
        "TOpics > 0\n",
        "TOpics > 0\n",
        "TOpics > 0\n",
        "TOpics > 0\n",
        "TOpics > 0\n",
        "TOpics > 0\n",
        "TOpics > 0\n",
        "TOpics > 0\n",
        "TOpics > 0\n",
        "TOpics > 0\n",
        "TOpics > 0\n",
        "TOpics > 0\n",
        "TOpics > 0\n",
        "TOpics > 0\n",
        "TOpics > 0\n",
        "TOpics > 0\n",
        "TOpics > 0\n",
        "TOpics > 0\n",
        "TOpics > 0\n",
        "TOpics > 0\n",
        "TOpics > 0\n",
        "TOpics > 0\n",
        "TOpics > 0\n",
        "TOpics > 0\n",
        "TOpics > 0\n",
        "TOpics > 0\n",
        "TOpics > 0\n",
        "TOpics > 0\n",
        "TOpics > 0\n",
        "TOpics > 0\n",
        "TOpics > 0\n",
        "TOpics > 0\n",
        "TOpics > 0\n",
        "TOpics > 0\n",
        "TOpics > 0\n",
        "TOpics > 0"
       ]
      },
      {
       "output_type": "stream",
       "stream": "stdout",
       "text": [
        "\n",
        "TOpics > 0\n",
        "TOpics > 0\n",
        "TOpics > 0\n",
        "TOpics > 0\n",
        "TOpics > 0\n",
        "TOpics > 0\n",
        "TOpics > 0\n",
        "TOpics > 0\n",
        "TOpics > 0\n",
        "TOpics > 0\n",
        "TOpics > 0\n",
        "TOpics > 0\n",
        "TOpics > 0\n",
        "TOpics > 0\n",
        "TOpics > 0\n",
        "TOpics > 0\n",
        "TOpics > 0\n",
        "TOpics > 0\n",
        "TOpics > 0\n",
        "TOpics > 0\n",
        "TOpics > 0\n",
        "TOpics > 0\n",
        "TOpics > 0\n",
        "TOpics > 0\n",
        "TOpics > 0\n",
        "TOpics > 0\n",
        "TOpics > 0\n",
        "TOpics > 0\n",
        "TOpics > 0\n",
        "TOpics > 0\n",
        "TOpics > 0\n",
        "TOpics > 0\n",
        "TOpics > 0\n",
        "TOpics > 0\n",
        "TOpics > 0\n",
        "TOpics > 0\n",
        "TOpics > 0\n",
        "TOpics > 0\n",
        "TOpics > 0\n",
        "TOpics > 0\n",
        "TOpics > 0\n",
        "TOpics > 0\n",
        "TOpics > 0\n",
        "TOpics > 0\n",
        "TOpics > 0"
       ]
      },
      {
       "output_type": "stream",
       "stream": "stdout",
       "text": [
        "\n",
        "TOpics > 0\n",
        "TOpics > 0\n",
        "TOpics > 0\n",
        "TOpics > 0\n",
        "TOpics > 0\n",
        "TOpics > 0\n",
        "TOpics > 0\n",
        "TOpics > 0\n",
        "TOpics > 0\n",
        "TOpics > 0\n",
        "TOpics > 0\n",
        "TOpics > 0\n",
        "TOpics > 0\n",
        "TOpics > 0\n",
        "TOpics > 0\n",
        "TOpics > 0\n",
        "TOpics > 0\n",
        "TOpics > 0\n",
        "TOpics > 0\n",
        "TOpics > 0\n",
        "TOpics > 0\n",
        "TOpics > 0\n",
        "TOpics > 0\n",
        "TOpics > 0\n",
        "TOpics > 0\n",
        "TOpics > 0\n",
        "TOpics > 0\n",
        "TOpics > 0\n",
        "TOpics > 0\n",
        "TOpics > 0\n",
        "TOpics > 0\n",
        "TOpics > 0\n",
        "TOpics > 0\n",
        "TOpics > 0\n",
        "TOpics > 0\n",
        "TOpics > 0\n",
        "TOpics > 0\n",
        "TOpics > 0\n",
        "TOpics > 0\n",
        "TOpics > 0\n",
        "TOpics > 0\n",
        "TOpics > 0\n",
        "TOpics > 0\n",
        "TOpics > 0\n",
        "TOpics > 0\n",
        "TOpics > 0\n",
        "TOpics > 0\n",
        "TOpics > 0\n",
        "TOpics > 0\n",
        "TOpics > 0\n",
        "TOpics > 0\n",
        "TOpics > 0\n",
        "TOpics > 0\n",
        "TOpics > 0\n",
        "TOpics > 0"
       ]
      },
      {
       "output_type": "stream",
       "stream": "stdout",
       "text": [
        "\n",
        "TOpics > 0\n",
        "TOpics > 0\n",
        "TOpics > 0\n",
        "TOpics > 0\n",
        "TOpics > 0\n",
        "TOpics > 0\n",
        "TOpics > 0\n",
        "TOpics > 0\n",
        "TOpics > 0\n",
        "TOpics > 0\n",
        "TOpics > 0\n",
        "TOpics > 0\n",
        "TOpics > 0\n",
        "TOpics > 0\n",
        "TOpics > 0\n",
        "TOpics > 0\n",
        "TOpics > 0\n",
        "TOpics > 0\n",
        "TOpics > 0\n",
        "TOpics > 0\n",
        "TOpics > 0\n",
        "TOpics > 0\n",
        "TOpics > 0\n",
        "TOpics > 0\n",
        "TOpics > 0\n",
        "TOpics > 0\n",
        "TOpics > 0\n",
        "TOpics > 0\n",
        "TOpics > 0\n",
        "TOpics > 0\n",
        "TOpics > 0\n",
        "TOpics > 0\n",
        "TOpics > 0\n",
        "TOpics > 0\n",
        "TOpics > 0\n",
        "TOpics > 0\n",
        "TOpics > 0\n",
        "TOpics > 0\n",
        "TOpics > 0\n",
        "TOpics > 0\n",
        "TOpics > 0\n",
        "TOpics > 0\n",
        "TOpics > 0"
       ]
      },
      {
       "output_type": "stream",
       "stream": "stdout",
       "text": [
        "\n",
        "TOpics > 0\n",
        "TOpics > 0\n",
        "TOpics > 0\n",
        "TOpics > 0\n",
        "TOpics > 0\n",
        "TOpics > 0\n",
        "TOpics > 0\n",
        "TOpics > 0\n",
        "TOpics > 0\n",
        "TOpics > 0\n",
        "TOpics > 0\n",
        "TOpics > 0\n",
        "TOpics > 0\n",
        "TOpics > 0\n",
        "TOpics > 0\n",
        "TOpics > 0\n",
        "TOpics > 0\n",
        "TOpics > 0\n",
        "TOpics > 0\n",
        "TOpics > 0\n",
        "TOpics > 0\n",
        "TOpics > 0\n",
        "TOpics > 0\n",
        "TOpics > 0\n",
        "TOpics > 0\n",
        "TOpics > 0\n",
        "TOpics > 0\n",
        "TOpics > 0\n",
        "TOpics > 0\n",
        "TOpics > 0\n",
        "TOpics > 0\n",
        "TOpics > 0\n",
        "TOpics > 0\n",
        "TOpics > 0\n",
        "TOpics > 0\n",
        "TOpics > 0\n",
        "TOpics > 0\n",
        "TOpics > 0\n",
        "TOpics > 0\n",
        "TOpics > 0\n",
        "TOpics > 0\n",
        "TOpics > 0\n",
        "TOpics > 0\n",
        "TOpics > 0"
       ]
      },
      {
       "output_type": "stream",
       "stream": "stdout",
       "text": [
        "\n",
        "TOpics > 0\n",
        "TOpics > 0\n",
        "TOpics > 0\n",
        "TOpics > 0\n",
        "TOpics > 0\n",
        "TOpics > 0\n",
        "TOpics > 0\n",
        "TOpics > 0\n",
        "TOpics > 0\n",
        "TOpics > 0\n",
        "TOpics > 0\n",
        "TOpics > 0\n",
        "TOpics > 0\n",
        "TOpics > 0\n",
        "TOpics > 0\n",
        "TOpics > 0\n",
        "TOpics > 0\n",
        "TOpics > 0\n",
        "TOpics > 0\n",
        "TOpics > 0\n",
        "TOpics > 0\n",
        "TOpics > 0\n",
        "TOpics > 0\n",
        "TOpics > 0\n",
        "TOpics > 0\n",
        "TOpics > 0\n",
        "TOpics > 0\n",
        "TOpics > 0\n",
        "TOpics > 0\n",
        "TOpics > 0\n",
        "TOpics > 0\n",
        "TOpics > 0\n",
        "TOpics > 0\n",
        "TOpics > 0\n",
        "TOpics > 0\n",
        "TOpics > 0\n",
        "TOpics > 0\n",
        "TOpics > 0\n",
        "TOpics > 0\n",
        "TOpics > 0\n",
        "TOpics > 0\n",
        "TOpics > 0\n",
        "TOpics > 0\n",
        "TOpics > 0\n",
        "TOpics > 0\n",
        "TOpics > 0\n",
        "TOpics > 0\n",
        "TOpics > 0\n",
        "TOpics > 0\n",
        "TOpics > 0\n",
        "TOpics > 0\n",
        "TOpics > 0"
       ]
      },
      {
       "output_type": "stream",
       "stream": "stdout",
       "text": [
        "\n",
        "TOpics > 0\n",
        "TOpics > 0\n",
        "TOpics > 0\n",
        "TOpics > 0\n",
        "TOpics > 0\n",
        "TOpics > 0\n",
        "TOpics > 0\n",
        "TOpics > 0\n",
        "TOpics > 0\n",
        "TOpics > 0\n",
        "TOpics > 0\n",
        "TOpics > 0\n",
        "TOpics > 0\n",
        "TOpics > 0\n",
        "TOpics > 0\n",
        "TOpics > 0\n",
        "TOpics > 0\n",
        "TOpics > 0\n",
        "TOpics > 0\n",
        "TOpics > 0\n",
        "TOpics > 0\n",
        "TOpics > 0\n",
        "TOpics > 0\n",
        "TOpics > 0\n",
        "TOpics > 0\n",
        "TOpics > 0\n",
        "TOpics > 0\n",
        "TOpics > 0\n",
        "TOpics > 0\n",
        "TOpics > 0\n",
        "TOpics > 0\n",
        "TOpics > 0\n",
        "TOpics > 0\n",
        "TOpics > 0\n",
        "TOpics > 0\n",
        "TOpics > 0\n",
        "TOpics > 0\n",
        "TOpics > 0\n",
        "TOpics > 0\n",
        "TOpics > 0\n",
        "TOpics > 0\n",
        "TOpics > 0\n",
        "TOpics > 0\n",
        "TOpics > 0\n",
        "TOpics > 0\n",
        "TOpics > 0\n",
        "TOpics > 0\n",
        "TOpics > 0\n",
        "TOpics > 0\n",
        "TOpics > 0\n",
        "TOpics > 0\n",
        "TOpics > 0\n",
        "TOpics > 0\n",
        "TOpics > 0\n",
        "TOpics > 0\n",
        "TOpics > 0\n",
        "TOpics > 0\n",
        "TOpics > 0\n",
        "TOpics > 0"
       ]
      },
      {
       "output_type": "stream",
       "stream": "stdout",
       "text": [
        "\n",
        "TOpics > 0\n",
        "TOpics > 0\n",
        "TOpics > 0\n",
        "TOpics > 0\n",
        "TOpics > 0\n",
        "TOpics > 0\n",
        "TOpics > 0\n",
        "TOpics > 0\n",
        "TOpics > 0\n",
        "TOpics > 0\n",
        "TOpics > 0\n",
        "TOpics > 0\n",
        "TOpics > 0\n",
        "TOpics > 0\n",
        "TOpics > 0\n",
        "TOpics > 0\n",
        "TOpics > 0\n",
        "TOpics > 0\n",
        "TOpics > 0\n",
        "TOpics > 0\n",
        "TOpics > 0\n",
        "TOpics > 0\n",
        "TOpics > 0\n",
        "TOpics > 0\n",
        "TOpics > 0\n",
        "TOpics > 0\n",
        "TOpics > 0\n",
        "TOpics > 0\n",
        "TOpics > 0\n",
        "TOpics > 0\n",
        "TOpics > 0\n",
        "TOpics > 0\n",
        "TOpics > 0\n",
        "TOpics > 0\n",
        "TOpics > 0\n",
        "TOpics > 0\n",
        "TOpics > 0\n",
        "TOpics > 0\n",
        "TOpics > 0\n",
        "TOpics > 0\n",
        "TOpics > 0\n",
        "TOpics > 0\n",
        "TOpics > 0\n",
        "TOpics > 0\n",
        "TOpics > 0"
       ]
      },
      {
       "output_type": "stream",
       "stream": "stdout",
       "text": [
        "\n",
        "TOpics > 0\n",
        "TOpics > 0\n",
        "TOpics > 0\n",
        "TOpics > 0\n",
        "TOpics > 0\n",
        "TOpics > 0\n",
        "TOpics > 0\n",
        "TOpics > 0\n",
        "TOpics > 0\n",
        "TOpics > 0\n",
        "TOpics > 0\n",
        "TOpics > 0\n",
        "TOpics > 0\n",
        "TOpics > 0\n",
        "TOpics > 0\n",
        "TOpics > 0\n",
        "TOpics > 0\n",
        "TOpics > 0\n",
        "TOpics > 0\n",
        "TOpics > 0\n",
        "TOpics > 0\n",
        "TOpics > 0\n",
        "TOpics > 0\n",
        "TOpics > 0\n",
        "TOpics > 0\n",
        "TOpics > 0\n",
        "TOpics > 0\n",
        "TOpics > 0\n",
        "TOpics > 0\n",
        "TOpics > 0\n",
        "TOpics > 0\n",
        "TOpics > 0\n",
        "TOpics > 0\n",
        "TOpics > 0\n",
        "TOpics > 0\n",
        "TOpics > 0\n",
        "TOpics > 0\n",
        "TOpics > 0\n",
        "TOpics > 0\n",
        "TOpics > 0\n",
        "TOpics > 0\n",
        "TOpics > 0\n",
        "TOpics > 0\n",
        "TOpics > 0\n",
        "TOpics > 0\n",
        "TOpics > 0\n",
        "TOpics > 0\n",
        "TOpics > 0\n",
        "TOpics > 0\n",
        "TOpics > 0\n",
        "TOpics > 0\n",
        "TOpics > 0"
       ]
      },
      {
       "output_type": "stream",
       "stream": "stdout",
       "text": [
        "\n",
        "TOpics > 0\n",
        "TOpics > 0\n",
        "TOpics > 0\n",
        "TOpics > 0\n",
        "TOpics > 0\n",
        "TOpics > 0\n",
        "TOpics > 0\n",
        "TOpics > 0\n",
        "TOpics > 0\n",
        "TOpics > 0\n",
        "TOpics > 0\n",
        "TOpics > 0\n",
        "TOpics > 0\n",
        "TOpics > 0\n",
        "TOpics > 0\n",
        "TOpics > 0\n",
        "TOpics > 0\n",
        "TOpics > 0\n",
        "TOpics > 0\n",
        "TOpics > 0\n",
        "TOpics > 0\n",
        "TOpics > 0\n",
        "TOpics > 0\n",
        "TOpics > 0\n",
        "TOpics > 0\n",
        "TOpics > 0\n",
        "TOpics > 0\n",
        "TOpics > 0\n",
        "TOpics > 0\n",
        "TOpics > 0\n",
        "TOpics > 0\n",
        "TOpics > 0\n",
        "TOpics > 0\n",
        "TOpics > 0\n",
        "TOpics > 0\n",
        "TOpics > 0\n",
        "TOpics > 0\n",
        "TOpics > 0\n",
        "TOpics > 0\n",
        "TOpics > 0\n",
        "TOpics > 0\n",
        "TOpics > 0\n",
        "TOpics > 0\n",
        "TOpics > 0\n",
        "TOpics > 0\n",
        "TOpics > 0\n",
        "TOpics > 0\n",
        "TOpics > 0\n",
        "TOpics > 0\n",
        "TOpics > 0\n",
        "TOpics > 0\n",
        "TOpics > 0\n",
        "TOpics > 0\n",
        "TOpics > 0\n",
        "TOpics > 0\n",
        "TOpics > 0\n",
        "TOpics > 0\n",
        "TOpics > 0\n",
        "TOpics > 0\n",
        "TOpics > 0\n",
        "TOpics > 0"
       ]
      },
      {
       "output_type": "stream",
       "stream": "stdout",
       "text": [
        "\n",
        "TOpics > 0\n",
        "TOpics > 0\n",
        "TOpics > 0\n",
        "TOpics > 0\n",
        "TOpics > 0\n",
        "TOpics > 0\n",
        "TOpics > 0\n",
        "TOpics > 0\n",
        "TOpics > 0\n",
        "TOpics > 0\n",
        "TOpics > 0\n",
        "TOpics > 0\n",
        "TOpics > 0\n",
        "TOpics > 0\n",
        "TOpics > 0\n",
        "TOpics > 0\n",
        "TOpics > 0\n",
        "TOpics > 0\n",
        "TOpics > 0\n",
        "TOpics > 0\n",
        "TOpics > 0\n",
        "TOpics > 0\n",
        "TOpics > 0\n",
        "TOpics > 0\n",
        "TOpics > 0\n",
        "TOpics > 0\n",
        "TOpics > 0\n",
        "TOpics > 0\n",
        "TOpics > 0\n",
        "TOpics > 0\n",
        "TOpics > 0\n",
        "TOpics > 0\n",
        "TOpics > 0\n",
        "TOpics > 0\n",
        "TOpics > 0\n",
        "TOpics > 0\n",
        "TOpics > 0\n",
        "TOpics > 0\n",
        "TOpics > 0\n",
        "TOpics > 0\n",
        "TOpics > 0\n",
        "TOpics > 0\n",
        "TOpics > 0\n",
        "TOpics > 0\n",
        "TOpics > 0\n",
        "TOpics > 0\n",
        "TOpics > 0"
       ]
      },
      {
       "output_type": "stream",
       "stream": "stdout",
       "text": [
        "\n",
        "TOpics > 0\n",
        "TOpics > 0\n",
        "TOpics > 0\n",
        "TOpics > 0\n",
        "TOpics > 0\n",
        "TOpics > 0\n",
        "TOpics > 0\n",
        "TOpics > 0\n",
        "TOpics > 0\n",
        "TOpics > 0\n",
        "TOpics > 0\n",
        "TOpics > 0\n",
        "TOpics > 0\n",
        "TOpics > 0\n",
        "TOpics > 0\n",
        "TOpics > 0\n",
        "TOpics > 0\n",
        "TOpics > 0\n",
        "TOpics > 0\n",
        "TOpics > 0\n",
        "TOpics > 0\n",
        "TOpics > 0\n",
        "TOpics > 0\n",
        "TOpics > 0\n",
        "TOpics > 0\n",
        "TOpics > 0\n",
        "TOpics > 0\n",
        "TOpics > 0\n",
        "TOpics > 0\n",
        "TOpics > 0\n",
        "TOpics > 0\n",
        "TOpics > 0\n",
        "TOpics > 0\n",
        "TOpics > 0\n",
        "TOpics > 0\n",
        "TOpics > 0\n",
        "TOpics > 0\n",
        "TOpics > 0\n",
        "TOpics > 0\n",
        "TOpics > 0\n",
        "TOpics > 0\n",
        "TOpics > 0\n",
        "TOpics > 0"
       ]
      },
      {
       "output_type": "stream",
       "stream": "stdout",
       "text": [
        "\n",
        "TOpics > 0\n",
        "TOpics > 0\n",
        "TOpics > 0\n",
        "TOpics > 0\n",
        "TOpics > 0\n",
        "TOpics > 0\n",
        "TOpics > 0\n",
        "TOpics > 0\n",
        "TOpics > 0\n",
        "TOpics > 0\n",
        "TOpics > 0\n",
        "TOpics > 0\n",
        "TOpics > 0\n",
        "TOpics > 0\n",
        "TOpics > 0\n",
        "TOpics > 0\n",
        "TOpics > 0\n",
        "TOpics > 0\n",
        "TOpics > 0\n",
        "TOpics > 0\n",
        "TOpics > 0\n",
        "TOpics > 0\n",
        "TOpics > 0\n",
        "TOpics > 0\n",
        "TOpics > 0\n",
        "TOpics > 0\n",
        "TOpics > 0\n",
        "TOpics > 0\n",
        "TOpics > 0\n",
        "TOpics > 0\n",
        "TOpics > 0\n",
        "TOpics > 0\n",
        "TOpics > 0\n",
        "TOpics > 0\n",
        "TOpics > 0\n",
        "TOpics > 0\n",
        "TOpics > 0\n",
        "TOpics > 0\n",
        "TOpics > 0\n",
        "TOpics > 0\n",
        "TOpics > 0\n",
        "TOpics > 0\n",
        "TOpics > 0"
       ]
      },
      {
       "output_type": "stream",
       "stream": "stdout",
       "text": [
        "\n",
        "TOpics > 0\n",
        "TOpics > 0\n",
        "TOpics > 0\n",
        "TOpics > 0\n",
        "TOpics > 0\n",
        "TOpics > 0\n",
        "TOpics > 0\n",
        "TOpics > 0\n",
        "TOpics > 0\n",
        "TOpics > 0\n",
        "TOpics > 0\n",
        "TOpics > 0\n",
        "TOpics > 0\n",
        "TOpics > 0\n",
        "TOpics > 0\n",
        "TOpics > 0\n",
        "TOpics > 0\n",
        "TOpics > 0\n",
        "TOpics > 0\n",
        "TOpics > 0\n",
        "TOpics > 0\n",
        "TOpics > 0\n",
        "TOpics > 0\n",
        "TOpics > 0\n",
        "TOpics > 0\n",
        "TOpics > 0\n",
        "TOpics > 0\n",
        "TOpics > 0\n",
        "TOpics > 0\n",
        "TOpics > 0\n",
        "TOpics > 0\n",
        "TOpics > 0\n",
        "TOpics > 0\n",
        "TOpics > 0\n",
        "TOpics > 0\n",
        "TOpics > 0\n",
        "TOpics > 0\n",
        "TOpics > 0\n",
        "TOpics > 0\n",
        "TOpics > 0\n",
        "TOpics > 0\n",
        "TOpics > 0\n",
        "TOpics > 0\n",
        "TOpics > 0\n",
        "TOpics > 0\n",
        "TOpics > 0\n",
        "TOpics > 0\n",
        "TOpics > 0\n",
        "TOpics > 0\n",
        "TOpics > 0\n",
        "TOpics > 0\n",
        "TOpics > 0"
       ]
      },
      {
       "output_type": "stream",
       "stream": "stdout",
       "text": [
        "\n",
        "TOpics > 0\n",
        "TOpics > 0\n",
        "TOpics > 0\n",
        "TOpics > 0\n",
        "TOpics > 0\n",
        "TOpics > 0\n",
        "TOpics > 0\n",
        "TOpics > 0\n",
        "TOpics > 0\n",
        "TOpics > 0\n",
        "TOpics > 0\n",
        "TOpics > 0\n",
        "TOpics > 0\n",
        "TOpics > 0\n",
        "TOpics > 0\n",
        "TOpics > 0\n",
        "TOpics > 0\n",
        "TOpics > 0\n",
        "TOpics > 0\n",
        "TOpics > 0\n",
        "TOpics > 0\n",
        "TOpics > 0\n",
        "TOpics > 0\n",
        "TOpics > 0\n",
        "TOpics > 0\n",
        "TOpics > 0\n",
        "TOpics > 0\n",
        "TOpics > 0\n",
        "TOpics > 0\n",
        "TOpics > 0\n",
        "TOpics > 0\n",
        "TOpics > 0\n",
        "TOpics > 0\n",
        "TOpics > 0\n",
        "TOpics > 0\n",
        "TOpics > 0\n",
        "TOpics > 0\n",
        "TOpics > 0\n",
        "TOpics > 0\n",
        "TOpics > 0\n",
        "TOpics > 0\n",
        "TOpics > 0\n",
        "TOpics > 0\n",
        "TOpics > 0\n",
        "TOpics > 0\n",
        "TOpics > 0\n",
        "TOpics > 0\n",
        "TOpics > 0\n",
        "TOpics > 0\n",
        "TOpics > 0\n",
        "TOpics > 0\n",
        "TOpics > 0\n",
        "TOpics > 0\n",
        "TOpics > 0\n",
        "TOpics > 0"
       ]
      },
      {
       "output_type": "stream",
       "stream": "stdout",
       "text": [
        "\n",
        "TOpics > 0\n",
        "TOpics > 0\n",
        "TOpics > 0\n",
        "TOpics > 0\n",
        "TOpics > 0\n",
        "TOpics > 0\n",
        "TOpics > 0\n",
        "TOpics > 0\n",
        "TOpics > 0\n",
        "TOpics > 0\n",
        "TOpics > 0\n",
        "TOpics > 0\n",
        "TOpics > 0\n",
        "TOpics > 0\n",
        "TOpics > 0\n",
        "TOpics > 0\n",
        "TOpics > 0\n",
        "TOpics > 0\n",
        "TOpics > 0\n",
        "TOpics > 0\n",
        "TOpics > 0\n",
        "TOpics > 0\n",
        "TOpics > 0\n",
        "TOpics > 0\n",
        "TOpics > 0\n",
        "TOpics > 0\n",
        "TOpics > 0\n",
        "TOpics > 0\n",
        "TOpics > 0\n",
        "TOpics > 0\n",
        "TOpics > 0\n",
        "TOpics > 0\n",
        "TOpics > 0\n",
        "TOpics > 0\n",
        "TOpics > 0\n",
        "TOpics > 0\n",
        "TOpics > 0\n",
        "TOpics > 0\n",
        "TOpics > 0\n",
        "TOpics > 0\n",
        "TOpics > 0\n",
        "TOpics > 0\n",
        "TOpics > 0\n",
        "TOpics > 0\n",
        "TOpics > 0\n",
        "TOpics > 0\n",
        "TOpics > 0\n",
        "TOpics > 0\n",
        "TOpics > 0\n",
        "TOpics > 0\n",
        "TOpics > 0\n",
        "TOpics > 0\n",
        "TOpics > 0\n",
        "TOpics > 0\n",
        "TOpics > 0"
       ]
      },
      {
       "output_type": "stream",
       "stream": "stdout",
       "text": [
        "\n",
        "TOpics > 0\n",
        "TOpics > 0\n",
        "TOpics > 0\n",
        "TOpics > 0\n",
        "TOpics > 0\n",
        "TOpics > 0\n",
        "TOpics > 0\n",
        "TOpics > 0\n",
        "TOpics > 0\n",
        "TOpics > 0\n",
        "TOpics > 0\n",
        "TOpics > 0\n",
        "TOpics > 0\n",
        "TOpics > 0\n",
        "TOpics > 0\n",
        "TOpics > 0\n",
        "TOpics > 0\n",
        "TOpics > 0\n",
        "TOpics > 0\n",
        "TOpics > 0\n",
        "TOpics > 0\n",
        "TOpics > 0\n",
        "TOpics > 0\n",
        "TOpics > 0\n",
        "TOpics > 0\n",
        "TOpics > 0\n",
        "TOpics > 0\n",
        "TOpics > 0\n",
        "TOpics > 0\n",
        "TOpics > 0\n",
        "TOpics > 0\n",
        "TOpics > 0\n",
        "TOpics > 0\n",
        "TOpics > 0\n",
        "TOpics > 0\n",
        "TOpics > 0\n",
        "TOpics > 0\n",
        "TOpics > 0\n",
        "TOpics > 0\n",
        "TOpics > 0\n",
        "TOpics > 0\n",
        "TOpics > 0\n",
        "TOpics > 0\n",
        "TOpics > 0\n",
        "TOpics > 0\n",
        "TOpics > 0\n",
        "TOpics > 0\n",
        "TOpics > 0\n",
        "TOpics > 0\n",
        "TOpics > 0"
       ]
      },
      {
       "output_type": "stream",
       "stream": "stdout",
       "text": [
        "\n",
        "TOpics > 0\n",
        "TOpics > 0\n",
        "TOpics > 0\n",
        "TOpics > 0\n",
        "TOpics > 0\n",
        "TOpics > 0\n",
        "TOpics > 0\n",
        "TOpics > 0\n",
        "TOpics > 0\n",
        "TOpics > 0\n",
        "TOpics > 0\n",
        "TOpics > 0\n",
        "TOpics > 0\n",
        "TOpics > 0\n",
        "TOpics > 0\n",
        "TOpics > 0\n",
        "TOpics > 0\n",
        "TOpics > 0\n",
        "TOpics > 0\n",
        "TOpics > 0\n",
        "TOpics > 0\n",
        "TOpics > 0\n",
        "TOpics > 0\n"
       ]
      }
     ],
     "prompt_number": 25
    },
    {
     "cell_type": "code",
     "collapsed": false,
     "input": [],
     "language": "python",
     "metadata": {},
     "outputs": []
    }
   ],
   "metadata": {}
  }
 ]
}